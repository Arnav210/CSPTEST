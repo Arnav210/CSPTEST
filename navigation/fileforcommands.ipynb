{
 "cells": [
  {
   "cell_type": "code",
   "execution_count": 2,
   "metadata": {},
   "outputs": [],
   "source": [
    "%%script bash\n",
    "cat <<EOF > /tmp/variables.sh\n",
    "export project_dir=$Home/Arnav\n",
    "export project=\\$project_dir/Arnav_2025\n",
    "export project_repo=\"https://github.com/nighthawkcoders/Arnav_2025.git\"\n",
    "EOF"
   ]
  },
  {
   "cell_type": "code",
   "execution_count": 3,
   "metadata": {},
   "outputs": [
    {
     "name": "stdout",
     "output_type": "stream",
     "text": [
      "Project dir: %project_dir\n",
      "Project: /Arnav/Arnav_2025\n",
      "Repo: https://github.com/nighthawkcoders/Arnav_2025.git\n"
     ]
    }
   ],
   "source": [
    "%%script bash\n",
    "source /tmp/variables.sh\n",
    "echo \"Project dir: %project_dir\"\n",
    "echo \"Project: $project\"\n",
    "echo \"Repo: $project_repo\""
   ]
  },
  {
   "cell_type": "code",
   "execution_count": 4,
   "metadata": {},
   "outputs": [
    {
     "name": "stdout",
     "output_type": "stream",
     "text": [
      "Using conditional statement to create a project directory and project\n",
      "Directory /Arnav does not exist... making directory /Arnav\n"
     ]
    },
    {
     "name": "stderr",
     "output_type": "stream",
     "text": [
      "mkdir: cannot create directory ‘/Arnav’: Permission denied\n"
     ]
    },
    {
     "name": "stdout",
     "output_type": "stream",
     "text": [
      "Directory /Arnav exists.\n",
      "Directory /Arnav/Arnav_2025 does not exist... cloning https://github.com/nighthawkcoders/Arnav_2025.git\n"
     ]
    },
    {
     "name": "stderr",
     "output_type": "stream",
     "text": [
      "bash: line 13: cd: /Arnav: No such file or directory\n",
      "Cloning into 'Arnav_2025'...\n"
     ]
    }
   ],
   "source": [
    "%%script bash\n",
    "source /tmp/variables.sh\n",
    "echo \"Using conditional statement to create a project directory and project\"\n",
    "cd\n",
    "if [ ! -d $project_dir ]\n",
    "then\n",
    "    echo \"Directory $project_dir does not exist... making directory $project_dir\"\n",
    "    mkdir -p $project_dir\n",
    "fi\n",
    "echo \"Directory $project_dir exists.\"\n",
    "if [ ! -d $project ]\n",
    "then\n",
    "    echo \"Directory $project does not exist... cloning $project_repo\"\n",
    "    cd $project_dir\n",
    "    git clone $project_repo\n",
    "    cd\n",
    "fi\n",
    "echo \"Directory $project exists\""
   ]
  }
 ],
 "metadata": {
  "kernelspec": {
   "display_name": "Python 3 (ipykernel)",
   "language": "python",
   "name": "python3"
  },
  "language_info": {
   "codemirror_mode": {
    "name": "ipython",
    "version": 3
   },
   "file_extension": ".py",
   "mimetype": "text/x-python",
   "name": "python",
   "nbconvert_exporter": "python",
   "pygments_lexer": "ipython3",
   "version": "3.12.3"
  }
 },
 "nbformat": 4,
 "nbformat_minor": 2
}
