{
 "cells": [
  {
   "cell_type": "raw",
   "metadata": {
    "vscode": {
     "languageId": "raw"
    }
   },
   "source": [
    "---\n",
    "layout: post\n",
    "title: code_cells\n",
    "description: Code Cells\n",
    "type: issues \n",
    "comments: true\n",
    "---"
   ]
  },
  {
   "cell_type": "markdown",
   "metadata": {},
   "source": [
    "This page is for my coding notebooks.\n",
    "You can find a python shell and a javascript cell below:"
   ]
  },
  {
   "cell_type": "code",
   "execution_count": 1,
   "metadata": {},
   "outputs": [
    {
     "name": "stdout",
     "output_type": "stream",
     "text": [
      "Hello!\n",
      "This is a python shell\n",
      "Welcome to the page, arnav\n",
      "👍 Python is awesome! 😀\n"
     ]
    }
   ],
   "source": [
    "from emoji import emojize \n",
    "\n",
    "print(\"Hello!\")\n",
    "print(\"This is a python shell\")\n",
    "\n",
    "name = input(\"please enter your name: \")\n",
    "\n",
    "print(f\"Welcome to the page, {name}\")\n",
    "\n",
    "print(emojize(\":thumbs_up: Python is awesome! :grinning_face:\"))\n"
   ]
  },
  {
   "cell_type": "code",
   "execution_count": 2,
   "metadata": {
    "vscode": {
     "languageId": "javascript"
    }
   },
   "outputs": [
    {
     "data": {
      "application/javascript": "\nalert(\"Hello, world!\");\n",
      "text/plain": [
       "<IPython.core.display.Javascript object>"
      ]
     },
     "metadata": {},
     "output_type": "display_data"
    }
   ],
   "source": [
    "from IPython.display import display, Javascript\n",
    "\n",
    "# Define the JavaScript code\n",
    "js_code = \"\"\"\n",
    "alert(\"Hello, world!\");\n",
    "\"\"\"\n",
    "\n",
    "# Run the JavaScript code\n",
    "display(Javascript(js_code))\n"
   ]
  }
 ],
 "metadata": {
  "kernelspec": {
   "display_name": "venv",
   "language": "python",
   "name": "python3"
  },
  "language_info": {
   "codemirror_mode": {
    "name": "ipython",
    "version": 3
   },
   "file_extension": ".py",
   "mimetype": "text/x-python",
   "name": "python",
   "nbconvert_exporter": "python",
   "pygments_lexer": "ipython3",
   "version": "3.12.3"
  }
 },
 "nbformat": 4,
 "nbformat_minor": 2
}
