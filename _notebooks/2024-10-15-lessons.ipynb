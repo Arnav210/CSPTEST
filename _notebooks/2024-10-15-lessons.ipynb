{
 "cells": [
  {
   "cell_type": "raw",
   "metadata": {
    "vscode": {
     "languageId": "raw"
    }
   },
   "source": [
    "---\n",
    "layout: post\n",
    "title: Sprint 2 Blog\n",
    "description: Blog with details for sprint 2\n",
    "type: issues \n",
    "comments: true\n",
    "---"
   ]
  },
  {
   "cell_type": "markdown",
   "metadata": {
    "vscode": {
     "languageId": "raw"
    }
   },
   "source": [
    "## Contributions to lessons\n",
    "\n",
    "- In my opinion, I had a decent contribution to the project. While Weston completed the hacks and while loop lessons, I did most of the work on the for loop lessons.\n",
    "- I created 3.8.4 entirely by myself and worked on 3.8.3 and 3.8.5 with other members of my group\n",
    "\n",
    "URL to lessons I contributed on: \n",
    "- [3.8.3](https://nighthawkcoders.github.io/portfolio_2025/csp/big-idea/p4/3-8-3)\n",
    "- [3.8.4](https://nighthawkcoders.github.io/portfolio_2025/csp/big-idea/p4/3-8-4)\n",
    "- [3.8.5](https://nighthawkcoders.github.io/portfolio_2025/csp/big-idea/p4/3-8-5)\n",
    "\n",
    "Our lessons were memorable because we added memes to the end of each section. One for the while loop section, which was my favorite, and one for the for loop section."
   ]
  },
  {
   "cell_type": "markdown",
   "metadata": {},
   "source": [
    "## Lesson summaries (other groups)\n",
    "\n",
    "- 3.1: Talks about the variables and naming conventions as well as data types in both python and javascript\n",
    "- 3.2: Teaches more in depth of each data type in both languages\n",
    "- 3.3: Mathematical expressions and relevant information such as sequencing \n",
    "- 3.4: String functions (for example, how to find/replace items from a string)\n",
    "- 3.5: Booleans, relational operators, and logical operators\n",
    "- 3.6: How to use conditionals like if, else statements\n",
    "- 3.7: How to use nested conditionals (if multiple things are true, then; print different results based on where the statement fails)\n",
    "- 3.8: (My group :)) How to use loops such as for loops and while loops with various uses and methods\n",
    "- 3.10A: List methods (like the string methods, but with lists) such as how to index and how to find values in a list\n",
    "- 3.10B: List methods again"
   ]
  },
  {
   "cell_type": "markdown",
   "metadata": {},
   "source": [
    "## Link to my hacks\n",
    "\n",
    "Here is the link to my folder with all of the hacks from the group lessons (files in github):\n",
    "- [Hacks](https://github.com/Arnav210/Arnav_2025/tree/main/Lessons%20Homework)"
   ]
  },
  {
   "cell_type": "markdown",
   "metadata": {},
   "source": [
    "## Most memorable lesson\n",
    "\n",
    "In my opinion, the most memorable lesson was 3.2. They had a gimkit at the end of their lesson, and the winners would get bags of chips. The gimkit didn't end up working since it became full, so they randomely gave out the chips. The dissapointment made it even more memorable, oddly enough.\n",
    "\n",
    "Another memorable lesson was 3.1/3.4 for a similar reason. This lesson had a kahoot for extra credit, which instantly made most people \"lock in\"."
   ]
  }
 ],
 "metadata": {
  "kernelspec": {
   "display_name": "venv",
   "language": "python",
   "name": "python3"
  },
  "language_info": {
   "codemirror_mode": {
    "name": "ipython",
    "version": 3
   },
   "file_extension": ".py",
   "mimetype": "text/x-python",
   "name": "python",
   "nbconvert_exporter": "python",
   "pygments_lexer": "ipython3",
   "version": "3.12.3"
  }
 },
 "nbformat": 4,
 "nbformat_minor": 2
}
