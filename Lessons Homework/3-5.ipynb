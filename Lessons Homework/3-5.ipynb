{
 "cells": [
  {
   "cell_type": "code",
   "execution_count": null,
   "metadata": {},
   "outputs": [],
   "source": [
    "# Python Popcorn Hack 1\n",
    "\n",
    "num = input(\"Enter num: \")\n",
    "\n",
    "if num > 0:\n",
    "    print(\"Num is positive\")\n",
    "elif num < 0:\n",
    "    print(\"Num is negative\")"
   ]
  },
  {
   "cell_type": "code",
   "execution_count": null,
   "metadata": {},
   "outputs": [],
   "source": [
    "# Python Popcorn Hack 2\n",
    "\n",
    "char = input(\"Enter a character: \")\n",
    "\n",
    "vowels = \"aeiou\"\n",
    "\n",
    "if char in vowels:\n",
    "    print(\"The character is a vowel\")\n",
    "else:\n",
    "    print(\"The character is not a vowel\")"
   ]
  },
  {
   "cell_type": "code",
   "execution_count": null,
   "metadata": {
    "vscode": {
     "languageId": "javascript"
    }
   },
   "outputs": [],
   "source": [
    "%%javascript \n",
    "\n",
    "// Javascript Popcorn Hack 1\n",
    "\n",
    "let num = Number(prompt(\"Enter a number: \"))\n",
    "\n",
    "if (num % 2 == 0) {\n",
    "    console.log(\"The number is even\")\n",
    "} else {\n",
    "    console.log(\"The number is odd\")\n",
    "}"
   ]
  },
  {
   "cell_type": "code",
   "execution_count": null,
   "metadata": {
    "vscode": {
     "languageId": "javascript"
    }
   },
   "outputs": [],
   "source": [
    "%%javascript\n",
    "\n",
    "// Javascript Homework Hack\n",
    "\n",
    "function isValidPassword(password) {\n",
    "\n",
    "    const minLength = 10;\n",
    "    const hasUpperCase = /[A-Z]/.test(password);\n",
    "    const hasLowerCase = /[a-z]/.test(password);\n",
    "    const hasNumber = /\\d/.test(password);\n",
    "    const hasNoSpaces = !/\\s/.test(password);\n",
    "\n",
    "    const isValid = (password.length >= minLength) &&\n",
    "                    hasUpperCase &&\n",
    "                    hasLowerCase &&\n",
    "                    hasNumber &&\n",
    "                    hasNoSpaces;\n",
    "\n",
    "    return isValid;\n",
    "}\n",
    "\n",
    "// Example usage:\n",
    "const passwords = [\n",
    "    \"Password1\",\n",
    "    \"Passw0rd!!\",\n",
    "    \"Password123\",\n",
    "    \"password123\",\n",
    "    \"PASSWORD123\",\n",
    "    \"Pass word 1\",\n",
    "    \"ValidPass123\"\n",
    "];\n",
    "\n",
    "passwords.forEach(password => {\n",
    "    console.log(`Password: \"${password}\" - Valid: ${isValidPassword(password)}`);\n",
    "});"
   ]
  },
  {
   "cell_type": "code",
   "execution_count": null,
   "metadata": {},
   "outputs": [],
   "source": [
    "# Python Homework Hack\n",
    "\n",
    "# Didn't figure this one out :("
   ]
  }
 ],
 "metadata": {
  "kernelspec": {
   "display_name": "venv",
   "language": "python",
   "name": "python3"
  },
  "language_info": {
   "codemirror_mode": {
    "name": "ipython",
    "version": 3
   },
   "file_extension": ".py",
   "mimetype": "text/x-python",
   "name": "python",
   "nbconvert_exporter": "python",
   "pygments_lexer": "ipython3",
   "version": "3.12.3"
  }
 },
 "nbformat": 4,
 "nbformat_minor": 2
}
