{
 "cells": [
  {
   "cell_type": "code",
   "execution_count": null,
   "metadata": {},
   "outputs": [],
   "source": [
    "# Python Popcorn Hack 1\n",
    "\n",
    "def shopping_list():\n",
    "    # Create an empty list to store items\n",
    "    a_list = []\n",
    "\n",
    "    while True:\n",
    "        user_input = input(\"Enter an item you want to add to the shopping list (or 'q' to quit): \")\n",
    "\n",
    "        if user_input == 'q':\n",
    "            break\n",
    "        else:\n",
    "            a_list.append(user_input)\n",
    "            print(a_list)\n",
    "            \n",
    "    \n",
    "    # Final display of the shopping list\n",
    "    print(\"Your final shopping list is:\")\n",
    "    # TODO: Use a loop to display all the items in the list\n",
    "\n",
    "shopping_list()"
   ]
  },
  {
   "cell_type": "code",
   "execution_count": null,
   "metadata": {},
   "outputs": [],
   "source": [
    "# Python Popcorn Hack 2\n",
    "\n",
    "list = []\n",
    "\n",
    "while True:\n",
    "    value = input(\"Enter value to append: \")\n",
    "    if value.lower() == \"q\":\n",
    "        break\n",
    "    else:\n",
    "        list.append(value)\n",
    "\n",
    "if len(list) >= 2:\n",
    "    print(list[1])\n",
    "    del list[1]\n",
    "    print(list)"
   ]
  },
  {
   "cell_type": "code",
   "execution_count": null,
   "metadata": {
    "vscode": {
     "languageId": "javascript"
    }
   },
   "outputs": [],
   "source": [
    "%%javascript \n",
    "\n",
    "// Javascript Popcorn Hack 1\n",
    "\n",
    "let foods = [\"Spaghetti\", \"Pizza\", \"Burgers\", \"Fries\", \"Tacos\"]\n",
    "\n",
    "foods.push(\"Quesadillas\")\n",
    "foods.push(\"Burritos\")\n",
    "\n",
    "console.log(foods.length)"
   ]
  },
  {
   "cell_type": "code",
   "execution_count": 6,
   "metadata": {},
   "outputs": [
    {
     "name": "stdout",
     "output_type": "stream",
     "text": [
      "30\n"
     ]
    }
   ],
   "source": [
    "# Python Popcorn Hack 3\n",
    "\n",
    "nums = [1, 2, 3, 4, 5, 6, 7, 8, 9, 10]\n",
    "\n",
    "sum = 0\n",
    "\n",
    "for num in nums:\n",
    "    if num % 2 == 0:\n",
    "        sum += num\n",
    "\n",
    "print(sum)"
   ]
  },
  {
   "cell_type": "code",
   "execution_count": null,
   "metadata": {
    "vscode": {
     "languageId": "javascript"
    }
   },
   "outputs": [],
   "source": [
    "%%javascript\n",
    "\n",
    "// Javascript Popcorn Hack 2\n",
    "\n",
    "let fruits = [\"apple\", \"banana\", \"orange\"];\n",
    "\n",
    "let elementToCheck = \"banana\"\n",
    "\n",
    "console.log(fruits.includes(elementToCheck))"
   ]
  },
  {
   "cell_type": "code",
   "execution_count": 7,
   "metadata": {},
   "outputs": [
    {
     "name": "stdout",
     "output_type": "stream",
     "text": [
      "[10, 20, 30, 40, 50]\n",
      "20\n"
     ]
    }
   ],
   "source": [
    "# Python Homework Hack 1\n",
    "\n",
    "l = []\n",
    "\n",
    "for x in range(1, 6):\n",
    "    l.append(x * 10)\n",
    "\n",
    "print(l)\n",
    "print(l[1])"
   ]
  },
  {
   "cell_type": "code",
   "execution_count": null,
   "metadata": {
    "vscode": {
     "languageId": "javascript"
    }
   },
   "outputs": [],
   "source": [
    "%%javascript \n",
    "\n",
    "// Javascript Homework Hack 1\n",
    "\n",
    "a = []\n",
    "\n",
    "a.push(10)\n",
    "a.push(20)\n",
    "a.push(30)\n",
    "a.push(40)\n",
    "a.push(50)\n",
    "\n",
    "console.log(a[1])"
   ]
  },
  {
   "cell_type": "code",
   "execution_count": null,
   "metadata": {},
   "outputs": [],
   "source": [
    "# Python Homework Hack 2\n",
    "\n",
    "to_do = []\n",
    "\n",
    "while True:\n",
    "    action = input(\"Would you like to view, add, or remove an item (q to quit)?: \")\n",
    "    if action.lower() == \"view\":\n",
    "        print(to_do)\n",
    "    elif action.lower() == \"add\":\n",
    "        add = input(\"What would you like to add?: \")\n",
    "        to_do.append(add)\n",
    "    elif action.lower() == \"remove\":\n",
    "        remove = input(\"What would you like to remove?: \")\n",
    "        to_do.remove(remove)\n",
    "    elif action.lower() == \"q\":\n",
    "        break\n",
    "    else:\n",
    "        print(\"That isn't an action\")\n",
    "    "
   ]
  },
  {
   "cell_type": "code",
   "execution_count": null,
   "metadata": {
    "vscode": {
     "languageId": "javascript"
    }
   },
   "outputs": [],
   "source": [
    "%%javascript \n",
    "\n",
    "// Javascript Homework Hack 2\n",
    "\n",
    "let workout_type = []\n",
    "let duration = []\n",
    "let calories_burned = []\n",
    "\n",
    "while (true) {\n",
    "    workout = prompt(\"Add workout (y/n/q)?: \")\n",
    "    if (workout == \"q\") {\n",
    "        break\n",
    "    } else if (workout == \"y\") {\n",
    "        type = prompt(\"Enter workout type: \")\n",
    "        workout_type.push(type)\n",
    "        dur = prompt(\"Enter workout duration: \")\n",
    "        duration.push(dur)\n",
    "        calories = prompt(\"Enter calories burned: \")\n",
    "        calories_burned.push(calories)\n",
    "\n",
    "        console.log(workout_type)\n",
    "        console.log(duration)\n",
    "        console.log(calories_burned)\n",
    "    } else {\n",
    "        console.log(\"Ok\")\n",
    "    }\n",
    "}"
   ]
  }
 ],
 "metadata": {
  "kernelspec": {
   "display_name": "venv",
   "language": "python",
   "name": "python3"
  },
  "language_info": {
   "codemirror_mode": {
    "name": "ipython",
    "version": 3
   },
   "file_extension": ".py",
   "mimetype": "text/x-python",
   "name": "python",
   "nbconvert_exporter": "python",
   "pygments_lexer": "ipython3",
   "version": "3.12.3"
  }
 },
 "nbformat": 4,
 "nbformat_minor": 2
}
