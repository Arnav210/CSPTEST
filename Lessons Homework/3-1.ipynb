{
 "cells": [
  {
   "cell_type": "code",
   "execution_count": 1,
   "metadata": {},
   "outputs": [],
   "source": [
    "# Python Popcorn Hack 3.1.1\n",
    "\n",
    "name = \"Weston\"\n",
    "grade = 10\n",
    "hobby = \"Drone Building\"\n",
    "\n",
    "name = \"Shaurya\"\n",
    "grade = 11\n",
    "hobby = \"Robotics\"\n",
    "\n",
    "name = \"Aaron\"\n",
    "\n",
    "name = \"Lars\"\n",
    "grade = 12"
   ]
  },
  {
   "cell_type": "code",
   "execution_count": 7,
   "metadata": {},
   "outputs": [
    {
     "name": "stdout",
     "output_type": "stream",
     "text": [
      "apple: red\n",
      "banana: yellow\n",
      "pear: green\n",
      "coconut: brown\n",
      "blueberry: blue\n"
     ]
    }
   ],
   "source": [
    "# Python Popcorn Hack 3.1.2\n",
    "\n",
    "fruits = {\n",
    "    \"apple\" : \"red\",\n",
    "    \"banana\": \"yellow\",\n",
    "    \"pear\": \"green\",\n",
    "    \"coconut\": \"brown\",\n",
    "    \"blueberry\": \"blue\"\n",
    "}\n",
    "\n",
    "for x, y in fruits.items():\n",
    "    print(f\"{x}: {y}\")"
   ]
  },
  {
   "cell_type": "code",
   "execution_count": 4,
   "metadata": {
    "vscode": {
     "languageId": "javascript"
    }
   },
   "outputs": [
    {
     "data": {
      "application/javascript": "\n// Javascript Popcorn Hack 3.1.4\n\nlet cool_array = [\"Jeffrey\", 15, \"Blue\", true, 3.0]\n",
      "text/plain": [
       "<IPython.core.display.Javascript object>"
      ]
     },
     "metadata": {},
     "output_type": "display_data"
    }
   ],
   "source": [
    "%%javascript \n",
    "\n",
    "// Javascript Popcorn Hack 3.1.4\n",
    "\n",
    "let cool_array = [\"Jeffrey\", 15, \"Blue\", true, 3.0]"
   ]
  },
  {
   "cell_type": "code",
   "execution_count": 5,
   "metadata": {
    "vscode": {
     "languageId": "javascript"
    }
   },
   "outputs": [
    {
     "data": {
      "application/javascript": "\n// Javascript Homework Hack 3.1.3\n\nlet personName = \"Arnav\"\n\nconst personProperties = {\n    age: 15,\n    sport: \"badminton\",\n    grade: 10\n}\n\nconsole.log(personName + \" is \" + personProperties.age + \" years old.\")\n",
      "text/plain": [
       "<IPython.core.display.Javascript object>"
      ]
     },
     "metadata": {},
     "output_type": "display_data"
    }
   ],
   "source": [
    "%%javascript\n",
    "\n",
    "// Javascript Homework Hack 3.1.3\n",
    "\n",
    "let personName = \"Arnav\"\n",
    "\n",
    "const personProperties = {\n",
    "    age: 15,\n",
    "    sport: \"badminton\",\n",
    "    grade: 10\n",
    "}\n",
    "\n",
    "console.log(personName + \" is \" + personProperties.age + \" years old.\")"
   ]
  },
  {
   "cell_type": "code",
   "execution_count": 11,
   "metadata": {},
   "outputs": [
    {
     "name": "stdout",
     "output_type": "stream",
     "text": [
      "dict_items([('name', 'Arnav'), ('age', 15), ('grade', 94.66666666666667)])\n"
     ]
    }
   ],
   "source": [
    "# Python Homework hack 3.1.4\n",
    "\n",
    "score1 = int(input(\"First score: \"))\n",
    "score2 = int(input(\"Second score: \"))\n",
    "score3 = int(input(\"Third Score: \"))\n",
    "\n",
    "average_grade = (score1 + score2  + score3) / 3\n",
    "\n",
    "student_info = {\n",
    "    \"name\": \"Arnav\",\n",
    "    \"age\": 15,\n",
    "    \"grade\": average_grade,\n",
    "}\n",
    "\n",
    "print(student_info.items())"
   ]
  }
 ],
 "metadata": {
  "kernelspec": {
   "display_name": "venv",
   "language": "python",
   "name": "python3"
  },
  "language_info": {
   "codemirror_mode": {
    "name": "ipython",
    "version": 3
   },
   "file_extension": ".py",
   "mimetype": "text/x-python",
   "name": "python",
   "nbconvert_exporter": "python",
   "pygments_lexer": "ipython3",
   "version": "3.12.3"
  }
 },
 "nbformat": 4,
 "nbformat_minor": 2
}
