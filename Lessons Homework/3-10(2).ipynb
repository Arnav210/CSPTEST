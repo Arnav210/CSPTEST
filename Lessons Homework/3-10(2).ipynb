{
 "cells": [
  {
   "cell_type": "code",
   "execution_count": 4,
   "metadata": {},
   "outputs": [
    {
     "name": "stdout",
     "output_type": "stream",
     "text": [
      "['John', 'Jean', 'Joe', 'Jeff']\n"
     ]
    }
   ],
   "source": [
    "# Python Popcorn Hack 1\n",
    "\n",
    "list = [\"John\", \"Joe\", \"Jeff\"]\n",
    "\n",
    "list.insert(-2, \"Jean\")\n",
    "\n",
    "print(list)"
   ]
  },
  {
   "cell_type": "code",
   "execution_count": null,
   "metadata": {},
   "outputs": [],
   "source": [
    "# Python Popcorn Hack 2\n",
    "\n",
    "list1 = [1, 2, 3, 4, 5]\n",
    "list2 = [\"a\", \"b\", \"c\", \"d\", \"e\"]\n",
    "\n",
    "list3 = list1.extend(list2)"
   ]
  },
  {
   "cell_type": "code",
   "execution_count": 6,
   "metadata": {},
   "outputs": [
    {
     "name": "stdout",
     "output_type": "stream",
     "text": [
      "[1, 3]\n"
     ]
    }
   ],
   "source": [
    "# Python Popcorn Hack 3\n",
    "\n",
    "list = [1, 2, 3, 4, 5]\n",
    "\n",
    "list.pop()\n",
    "list.remove(2)\n",
    "del list[2]\n",
    "\n",
    "print(list)"
   ]
  },
  {
   "cell_type": "code",
   "execution_count": null,
   "metadata": {
    "vscode": {
     "languageId": "javascript"
    }
   },
   "outputs": [],
   "source": [
    "%%javascript \n",
    "\n",
    "// Javscript Popcorn Hack 1\n",
    "\n",
    "let list = [1, 2, 3, 4, 5]\n",
    "\n",
    "list.reverse()\n",
    "\n",
    "console.log(list)"
   ]
  },
  {
   "cell_type": "code",
   "execution_count": null,
   "metadata": {
    "vscode": {
     "languageId": "javascript"
    }
   },
   "outputs": [],
   "source": [
    "%%javascript \n",
    "\n",
    "// Javscript Popcorn Hack 2\n",
    "\n",
    "let arr1 = [3, 4, 5]\n",
    "let arr2 = [1, 2]\n",
    "\n",
    "arr1.unshift(...arr2)\n",
    "\n",
    "console.log(arr1)"
   ]
  },
  {
   "cell_type": "code",
   "execution_count": null,
   "metadata": {
    "vscode": {
     "languageId": "javascript"
    }
   },
   "outputs": [],
   "source": [
    "%%javascript \n",
    "\n",
    "// Javscript Popcorn Hack 3\n",
    "\n",
    "let numbers = [1, 2, 6, 9, 4, 0]\n",
    "\n",
    "let bigNumbers = numbers.filter(num => num >= 4)\n",
    "\n",
    "console.log(bigNumbers)"
   ]
  },
  {
   "cell_type": "code",
   "execution_count": 9,
   "metadata": {},
   "outputs": [
    {
     "name": "stdout",
     "output_type": "stream",
     "text": [
      "['a', 'y', 'r']\n",
      "['a', 'r', 'y']\n",
      "['a', 'r']\n"
     ]
    }
   ],
   "source": [
    "# Python Homework Hack 1\n",
    "\n",
    "grocery_items = []\n",
    "\n",
    "for x in range(3):\n",
    "    item = input(\"Enter an item: \")\n",
    "    grocery_items.append(item)\n",
    "\n",
    "print(grocery_items)\n",
    "\n",
    "grocery_items.sort()\n",
    "print(grocery_items)\n",
    "\n",
    "remove = int(input(\"remove an item by index: \"))\n",
    "\n",
    "grocery_items.pop(remove)\n",
    "print(grocery_items)"
   ]
  },
  {
   "cell_type": "code",
   "execution_count": 10,
   "metadata": {},
   "outputs": [
    {
     "name": "stdout",
     "output_type": "stream",
     "text": [
      "[1, 2, 3, 4, 5, 6, 7, 8, 9, 10, 11, 12, 13, 14, 15, 16, 17, 18, 19, 20]\n",
      "[2, 4, 6, 8, 10, 12, 14, 16, 18, 20]\n"
     ]
    }
   ],
   "source": [
    "# Python Homework Hack 2\n",
    "\n",
    "nums = [1, 2, 3, 4, 5, 6, 7, 8, 9, 10, 11, 12, 13, 14, 15, 16, 17, 18, 19, 20]\n",
    "even_nums = []\n",
    "\n",
    "print(nums)\n",
    "\n",
    "for x in nums:\n",
    "    if x % 2 == 0:\n",
    "        even_nums.append(x)\n",
    "\n",
    "print(even_nums)"
   ]
  },
  {
   "cell_type": "code",
   "execution_count": 12,
   "metadata": {},
   "outputs": [
    {
     "name": "stdout",
     "output_type": "stream",
     "text": [
      "[56, 60, 78]\n",
      "[78]\n"
     ]
    }
   ],
   "source": [
    "# Python Homework Hack 3\n",
    "\n",
    "grades = []\n",
    "good_grades = []\n",
    "\n",
    "for x in range(3):\n",
    "    grade = int(input(\"Enter grade: \"))\n",
    "    grades.append(grade)\n",
    "\n",
    "print(grades)\n",
    "\n",
    "for x in grades:\n",
    "    if x > 60:\n",
    "        good_grades.append(x)\n",
    "\n",
    "print(good_grades)\n"
   ]
  },
  {
   "cell_type": "code",
   "execution_count": 13,
   "metadata": {},
   "outputs": [
    {
     "name": "stdout",
     "output_type": "stream",
     "text": [
      "[1, 2, 3, 4, 5, 6, 7, 8, 9, 10]\n",
      "[10, 9, 8, 7, 6, 5, 4, 3, 2, 1]\n",
      "[10, 9, 8, 7, 6]\n",
      "[1, 2, 3, 4, 5, 6, 7, 8, 9, 10]\n"
     ]
    }
   ],
   "source": [
    "# Python Homework Hack 4\n",
    "\n",
    "nums = [1, 2, 3, 4, 5, 6, 7, 8, 9, 10]\n",
    "\n",
    "print(nums)\n",
    "\n",
    "nums.sort(reverse=True)\n",
    "\n",
    "print(nums)\n",
    "\n",
    "print(nums[:5])\n",
    "\n",
    "nums.sort()\n",
    "\n",
    "print(nums)"
   ]
  },
  {
   "cell_type": "code",
   "execution_count": null,
   "metadata": {
    "vscode": {
     "languageId": "javascript"
    }
   },
   "outputs": [],
   "source": [
    "%%javascript \n",
    "\n",
    "// Javscript Homework Hack 1\n",
    "\n",
    "let arr = [1, 2, 3, 4, 5]\n",
    "\n",
    "console.log(arr)\n",
    "\n",
    "arr.reverse()\n",
    "\n",
    "console.log(arr)"
   ]
  },
  {
   "cell_type": "code",
   "execution_count": null,
   "metadata": {
    "vscode": {
     "languageId": "javascript"
    }
   },
   "outputs": [],
   "source": [
    "%%javascript \n",
    "\n",
    "// Javscript Homework Hack 2\n",
    "\n",
    "let sports = [\"soccer\", \"football\", \"basketball\", \"wrestling\", \"swimming\"]\n",
    "\n",
    "console.log(sports[0])\n",
    "console.log(sports[3])"
   ]
  },
  {
   "cell_type": "code",
   "execution_count": null,
   "metadata": {
    "vscode": {
     "languageId": "javascript"
    }
   },
   "outputs": [],
   "source": [
    "%%javascript \n",
    "\n",
    "// Javscript Homework Hack 3\n",
    "\n",
    "let choresList = [\"dishes\", \"toilet\", \"clothes\"]\n",
    "\n",
    "choresList.push(\"vacuum\")\n",
    "console.log(choresList)\n",
    "\n",
    "choresList.shift()\n",
    "console.log(choresList)\n",
    "\n",
    "choresList.unshift(\"idk\")\n",
    "console.log(choresList)\n",
    "\n",
    "choresList.pop(1)\n",
    "console.log(choresList)"
   ]
  },
  {
   "cell_type": "code",
   "execution_count": null,
   "metadata": {
    "vscode": {
     "languageId": "javascript"
    }
   },
   "outputs": [],
   "source": [
    "%%javascript \n",
    "\n",
    "// Javscript Homework Hack 4\n",
    "\n",
    "let arr = [1, 6, 7, 4, 2, 9, 8, 4, 2]\n",
    "\n",
    "let x = 0\n",
    "\n",
    "for (y in arr) {\n",
    "    if (y % 2 == 0) {\n",
    "        x = x + 1\n",
    "    }\n",
    "}\n",
    "\n",
    "console.log(x)"
   ]
  }
 ],
 "metadata": {
  "kernelspec": {
   "display_name": "venv",
   "language": "python",
   "name": "python3"
  },
  "language_info": {
   "codemirror_mode": {
    "name": "ipython",
    "version": 3
   },
   "file_extension": ".py",
   "mimetype": "text/x-python",
   "name": "python",
   "nbconvert_exporter": "python",
   "pygments_lexer": "ipython3",
   "version": "3.12.3"
  }
 },
 "nbformat": 4,
 "nbformat_minor": 2
}
