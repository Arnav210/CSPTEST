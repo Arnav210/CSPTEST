{
 "cells": [
  {
   "cell_type": "code",
   "execution_count": 1,
   "metadata": {},
   "outputs": [
    {
     "name": "stdout",
     "output_type": "stream",
     "text": [
      "{1, 2, 3, 4, 5}\n",
      "{1, 2, 3, 4, 5, 6}\n",
      "{1, 2, 3, 4, 5, 6}\n",
      "{1, 2, 3, 4, 5, 6}\n",
      "set()\n"
     ]
    }
   ],
   "source": [
    "# Python Popcorn Hack 1\n",
    "\n",
    "set = {1, 2, 3, 4, 5}\n",
    "print(set)\n",
    "\n",
    "set.add(6)\n",
    "print(set)\n",
    "\n",
    "set2 = {7, 8, 9}\n",
    "print(set)\n",
    "\n",
    "set.union(set2)\n",
    "print(set)\n",
    "\n",
    "set.clear()\n",
    "print(set)"
   ]
  },
  {
   "cell_type": "code",
   "execution_count": 3,
   "metadata": {},
   "outputs": [
    {
     "name": "stdout",
     "output_type": "stream",
     "text": [
      "26\n",
      "Python\n",
      "LEARNING PYTHON IS NOT FUN\n",
      "Learning Python is not good\n",
      "nuf ton si nohtyP gninraeL\n"
     ]
    }
   ],
   "source": [
    "# Python Popcorn Hack 2\n",
    "\n",
    "string = \"Learning Python is not fun\"\n",
    "\n",
    "print(len(string))\n",
    "\n",
    "print(string[9:15])\n",
    "\n",
    "print(string.upper())\n",
    "\n",
    "print(string.replace(\"fun\", \"good\"))\n",
    "\n",
    "print(string[::-1])"
   ]
  },
  {
   "cell_type": "code",
   "execution_count": 4,
   "metadata": {},
   "outputs": [
    {
     "name": "stdout",
     "output_type": "stream",
     "text": [
      "7\n",
      "[3, 6, 7, 9, 11]\n",
      "[3, 6, 7, 9, 11, 13]\n",
      "[13, 11, 7, 6, 3]\n"
     ]
    }
   ],
   "source": [
    "# Python Popcorn Hack 3\n",
    "\n",
    "list = [3, 5, 7, 9, 11]\n",
    "\n",
    "print(list[2])\n",
    "\n",
    "list[1] = 6\n",
    "print(list)\n",
    "\n",
    "list.append(13)\n",
    "print(list)\n",
    "\n",
    "list.remove(9)\n",
    "\n",
    "list.sort(reverse=True)\n",
    "print(list)"
   ]
  },
  {
   "cell_type": "code",
   "execution_count": 7,
   "metadata": {},
   "outputs": [
    {
     "name": "stdout",
     "output_type": "stream",
     "text": [
      "{'name': 'Arnav', 'email': 'arnavm@gmail.com', 'phone number': 1234567890}\n",
      "My Name is: Arnav\n",
      "3\n",
      "<class 'dict'>\n"
     ]
    }
   ],
   "source": [
    "# Python Popcorn Hack 4\n",
    "\n",
    "personal_info = {\n",
    "    \"name\": \"Arnav\",\n",
    "    \"email\": \"arnavm@gmail.com\",\n",
    "    \"phone number\": 1234567890\n",
    "}\n",
    "\n",
    "print(personal_info)\n",
    "\n",
    "print(f\"My Name is: {personal_info[\"name\"]}\")\n",
    "\n",
    "print(len(personal_info))\n",
    "\n",
    "print(type(personal_info))"
   ]
  },
  {
   "cell_type": "code",
   "execution_count": 14,
   "metadata": {},
   "outputs": [
    {
     "name": "stdout",
     "output_type": "stream",
     "text": [
      "{'full_name': 'Arnav Mittal', 'years': 15, 'location': 'California', 'favorite_food': 'Spaghetti', 'activities': ['Badminton', 'Videogames', 'Tv']}\n",
      "Is Badminton available today? True\n",
      "I have 3 activities\n",
      "('Videogames', 'Badminton')\n",
      "{'hardwork', 'intelligence', 'playing videogames'}\n",
      "None\n",
      "45\n"
     ]
    }
   ],
   "source": [
    "# Python Homework Hack 1\n",
    "\n",
    "personal_info = {\n",
    "    \"full_name\": \"Arnav Mittal\",\n",
    "    \"years\": 15,\n",
    "    \"location\": \"California\",\n",
    "    \"favorite_food\": \"Spaghetti\"\n",
    "}\n",
    "\n",
    "activities = [\"Badminton\", \"Videogames\", \"Tv\"]\n",
    "\n",
    "personal_info[\"activities\"] = activities\n",
    "\n",
    "print(personal_info)\n",
    "\n",
    "activity_available = True\n",
    "\n",
    "print(f\"Is {activities[0]} available today? {activity_available}\")\n",
    "\n",
    "total_activities = len(activities)\n",
    "print(f\"I have {total_activities} activities\")\n",
    "\n",
    "favorite_activities = (\"Videogames\", \"Badminton\")\n",
    "print(favorite_activities)\n",
    "\n",
    "skills = {\"playing videogames\", \"intelligence\", \"hardwork\"}\n",
    "print(skills)\n",
    "\n",
    "new_skill = None\n",
    "print(new_skill)\n",
    "\n",
    "total_cost = (len(activities) * 5 + len(skills) * 10)\n",
    "print(total_cost)"
   ]
  },
  {
   "cell_type": "code",
   "execution_count": null,
   "metadata": {
    "vscode": {
     "languageId": "javascript"
    }
   },
   "outputs": [],
   "source": [
    "%%javascript \n",
    "\n",
    "// Javscript Popcorn Hack 1\n",
    "\n",
    "const nums = new Set([1, 2, 3])\n",
    "const nums2 = new Set([1, 2, 3])\n",
    "\n",
    "console.log(nums)\n",
    "console.log(nums2)\n",
    "\n",
    "nums.add(4)\n",
    "nums.delete(1)\n",
    "\n",
    "console.log(nums.add(nums2))"
   ]
  },
  {
   "cell_type": "code",
   "execution_count": null,
   "metadata": {
    "vscode": {
     "languageId": "javascript"
    }
   },
   "outputs": [],
   "source": [
    "%%javascript \n",
    "\n",
    "// Javscript Popcorn Hack 2\n",
    "\n",
    "const application = {\n",
    "    name: \"Arnav\",\n",
    "    age: \"15\",\n",
    "    experiences: \"lots\",\n",
    "    money: \"even more\"\n",
    "}\n",
    "\n",
    "console.log(application)\n",
    "console.log(application[\"money\"])"
   ]
  },
  {
   "cell_type": "code",
   "execution_count": null,
   "metadata": {
    "vscode": {
     "languageId": "javascript"
    }
   },
   "outputs": [],
   "source": [
    "%%javascript \n",
    "\n",
    "// Javscript Homework Hack 1\n",
    "\n",
    "const user_info = {\n",
    "\n",
    "}\n",
    "\n",
    "let name1 = prompt(\"Enter your name: \")\n",
    "let age = prompt(\"Enter your age: \")\n",
    "let experiences = prompt(\"Enter your experiences: \")\n",
    "\n",
    "user_info[\"user_name\"] = name1\n",
    "user_info[\"age\"] = age\n",
    "user_info[\"experiences\"] = experiences\n",
    "\n",
    "console.log(user_info)"
   ]
  }
 ],
 "metadata": {
  "kernelspec": {
   "display_name": "venv",
   "language": "python",
   "name": "python3"
  },
  "language_info": {
   "codemirror_mode": {
    "name": "ipython",
    "version": 3
   },
   "file_extension": ".py",
   "mimetype": "text/x-python",
   "name": "python",
   "nbconvert_exporter": "python",
   "pygments_lexer": "ipython3",
   "version": "3.12.3"
  }
 },
 "nbformat": 4,
 "nbformat_minor": 2
}
