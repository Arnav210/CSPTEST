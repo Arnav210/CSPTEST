{
 "cells": [
  {
   "cell_type": "code",
   "execution_count": null,
   "metadata": {},
   "outputs": [],
   "source": [
    "# Python 3.6.1 Popcorn Hack 1\n",
    "\n",
    "# The addition of temperature ranges would add more value ranges to check for and more potential outputs.\n",
    "\n",
    "temperature = 50\n",
    "\n",
    "if temperature >= 60:\n",
    "    print(\"It's a hot day\")\n",
    "elif temperature >= 40 and temperature <= 60:\n",
    "    print(\"It's a warm day\")\n",
    "elif temperature <= 40 and temperature >= 20:\n",
    "    print(\"It's a cool day\")\n",
    "else:\n",
    "    print(\"It's a cold day\")"
   ]
  },
  {
   "cell_type": "code",
   "execution_count": 1,
   "metadata": {
    "vscode": {
     "languageId": "javascript"
    }
   },
   "outputs": [
    {
     "data": {
      "application/javascript": "\n// Javascript Popcorn Hack 1\n\nlet score = 85;\n\nif (score >= 60) {\n    console.log(\"You passed.\");\n} else {\n    console.log(\"You did not pass.\");\n}\n\n",
      "text/plain": [
       "<IPython.core.display.Javascript object>"
      ]
     },
     "metadata": {},
     "output_type": "display_data"
    }
   ],
   "source": [
    "%%javascript\n",
    "\n",
    "// Javascript Popcorn Hack 1\n",
    "\n",
    "let score = 85;\n",
    "\n",
    "if (score >= 60) {\n",
    "    console.log(\"You passed.\");\n",
    "} else {\n",
    "    console.log(\"You did not pass.\");\n",
    "}\n",
    "\n"
   ]
  },
  {
   "cell_type": "code",
   "execution_count": 5,
   "metadata": {},
   "outputs": [
    {
     "name": "stdout",
     "output_type": "stream",
     "text": [
      "Even\n"
     ]
    }
   ],
   "source": [
    "# Python Homework Hack 1\n",
    "\n",
    "def check_odd_even(number):\n",
    "    if number % 2 == 0:\n",
    "        print(\"Even\")\n",
    "    else:\n",
    "        print(\"Odd\")\n",
    "\n",
    "check_odd_even(8)"
   ]
  },
  {
   "cell_type": "code",
   "execution_count": 9,
   "metadata": {},
   "outputs": [
    {
     "name": "stdout",
     "output_type": "stream",
     "text": [
      "Not Leap Year\n"
     ]
    }
   ],
   "source": [
    "# Python Homework Hack 2\n",
    "\n",
    "def is_leap_year(year):\n",
    "    if year % 4 == 0 and year % 100 != 0 or year % 400 == 0:\n",
    "        print(\"Leap Year\")\n",
    "    else:\n",
    "        print(\"Not Leap Year\")\n",
    "\n",
    "is_leap_year(1900)"
   ]
  },
  {
   "cell_type": "code",
   "execution_count": 14,
   "metadata": {},
   "outputs": [
    {
     "name": "stdout",
     "output_type": "stream",
     "text": [
      "Hot\n"
     ]
    }
   ],
   "source": [
    "# Python Homework Hack 3\n",
    "\n",
    "def temperature_range(temperature):\n",
    "    if temperature <= 60:\n",
    "        print(\"Cold\")\n",
    "    elif temperature > 60 and temperature < 80:\n",
    "        print(\"Warm\")\n",
    "    else:\n",
    "        print(\"Hot\")\n",
    "\n",
    "temperature_range(90)"
   ]
  },
  {
   "cell_type": "code",
   "execution_count": 15,
   "metadata": {
    "vscode": {
     "languageId": "javascript"
    }
   },
   "outputs": [
    {
     "data": {
      "application/javascript": "\n// Javascript Homework Hack 1\n\nfunction checkVotingEligibility(age) {\n    if (age >= 18) {\n        console.log(\"You are eligible to vote\")\n    } else {\n        console.log(\"You are not eligible to vote yet\")\n    }\n}\n\ncheckVotingEligibility(19)\n",
      "text/plain": [
       "<IPython.core.display.Javascript object>"
      ]
     },
     "metadata": {},
     "output_type": "display_data"
    }
   ],
   "source": [
    "%%javascript\n",
    "\n",
    "// Javascript Homework Hack 1\n",
    "\n",
    "function checkVotingEligibility(age) {\n",
    "    if (age >= 18) {\n",
    "        console.log(\"You are eligible to vote\")\n",
    "    } else {\n",
    "        console.log(\"You are not eligible to vote yet\")\n",
    "    }\n",
    "}\n",
    "\n",
    "checkVotingEligibility(19)"
   ]
  },
  {
   "cell_type": "code",
   "execution_count": null,
   "metadata": {
    "vscode": {
     "languageId": "javascript"
    }
   },
   "outputs": [],
   "source": [
    "%%javascript \n",
    "\n",
    "// Javascript Homework Hack 2\n",
    "\n",
    "function getGrade(score) {\n",
    "    if (score >= 90) {\n",
    "        console.log(\"Grade: A\")\n",
    "    } else if (score >= 80 && score <= 89) {\n",
    "        console.log(\"Grade: B\")\n",
    "    } else if (score >= 70 && score <= 79) {\n",
    "        console.log(\"Grade: C\")\n",
    "    } else {\n",
    "        console.log(\"Failing Grade\")\n",
    "    }\n",
    "}\n",
    "\n",
    "getGrade(87)"
   ]
  },
  {
   "cell_type": "code",
   "execution_count": 1,
   "metadata": {
    "vscode": {
     "languageId": "javascript"
    }
   },
   "outputs": [
    {
     "data": {
      "application/javascript": "\n// Javascript Homework Hack 3\n\nfunction convertTemperature(value, scale) {\n    if (scale == \"C\") {\n        temperature = (value * 9/5) + 32\n        console.log(temperature + \"degrees F\")\n    } else if (scale == \"F\") {\n        temperature = (value - 32) * 5/9\n        console.log(temperature + \"degrees C\")\n    } else {\n        console.log(\"Error\")\n    }\n}\n\nconvertTemperature(67, F)\n",
      "text/plain": [
       "<IPython.core.display.Javascript object>"
      ]
     },
     "metadata": {},
     "output_type": "display_data"
    }
   ],
   "source": [
    "%%javascript \n",
    "\n",
    "// Javascript Homework Hack 3\n",
    "\n",
    "function convertTemperature(value, scale) {\n",
    "    if (scale == \"C\") {\n",
    "        temperature = (value * 9/5) + 32\n",
    "        console.log(temperature + \"degrees F\")\n",
    "    } else if (scale == \"F\") {\n",
    "        temperature = (value - 32) * 5/9\n",
    "        console.log(temperature + \"degrees C\")\n",
    "    } else {\n",
    "        console.log(\"Error\")\n",
    "    }\n",
    "}\n",
    "\n",
    "convertTemperature(67, F)"
   ]
  }
 ],
 "metadata": {
  "kernelspec": {
   "display_name": "venv",
   "language": "python",
   "name": "python3"
  },
  "language_info": {
   "codemirror_mode": {
    "name": "ipython",
    "version": 3
   },
   "file_extension": ".py",
   "mimetype": "text/x-python",
   "name": "python",
   "nbconvert_exporter": "python",
   "pygments_lexer": "ipython3",
   "version": "3.12.3"
  }
 },
 "nbformat": 4,
 "nbformat_minor": 2
}
