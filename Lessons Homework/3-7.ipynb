{
 "cells": [
  {
   "cell_type": "code",
   "execution_count": null,
   "metadata": {},
   "outputs": [],
   "source": [
    "# Python Popcorn Hack 1\n",
    "\n",
    "members = \"ready\"\n",
    "weather = \"sunny\"\n",
    "transportation = \"available\"\n",
    "boots = \"not present\"\n",
    "\n",
    "print(\"The group members are \" + members)\n",
    "print(\"The weather is \" + weather)\n",
    "print(\"Your transportation is \" + transportation)\n",
    "print(\"Your boots are \" + boots)\n",
    "\n",
    "if members == \"ready\":\n",
    "    if weather == \"sunny\":\n",
    "        if transportation == \"available\":\n",
    "            if boots == \"present\":\n",
    "                print(\"You are ready to go hiking!\")\n",
    "            else:\n",
    "                print(\"You need to find your boots first.\")\n",
    "        else:\n",
    "            print(\"You need to arrange transportation.\")\n",
    "    else:\n",
    "        print(\"It's not good weather for hiking.\")\n",
    "else:\n",
    "    print(\"All the group members are not ready.\")"
   ]
  },
  {
   "cell_type": "code",
   "execution_count": 4,
   "metadata": {
    "vscode": {
     "languageId": "javascript"
    }
   },
   "outputs": [
    {
     "data": {
      "application/javascript": "\n// Javascript Popcorn Hack 1\n\nlet weather = \"sunny\"\nlet transportation = \"available\"\nlet boots = \"not_present\"\n\nif (weather == \"sunny\") {\n    console.log(\"The weather is good.\")\n    if (transportation == \"available\") {\n        console.log(\"Transportation is available.\")\n        if (boots == \"present\") {\n            console.log(\"You are ready for the trip.\")\n        } else {\n            console.log(\"You are missing your boots.\")\n        }\n    } else {\n        console.log(\"Your transportation is not available.\")\n    }\n\n} else {\n    console.log(\"The weather is not good.\")\n}\n",
      "text/plain": [
       "<IPython.core.display.Javascript object>"
      ]
     },
     "metadata": {},
     "output_type": "display_data"
    }
   ],
   "source": [
    "%%javascript\n",
    "\n",
    "// Javascript Popcorn Hack 1\n",
    "\n",
    "let weather = \"sunny\"\n",
    "let transportation = \"available\"\n",
    "let boots = \"not_present\"\n",
    "\n",
    "if (weather == \"sunny\") {\n",
    "    console.log(\"The weather is good.\")\n",
    "    if (transportation == \"available\") {\n",
    "        console.log(\"Transportation is available.\")\n",
    "        if (boots == \"present\") {\n",
    "            console.log(\"You are ready for the trip.\")\n",
    "        } else {\n",
    "            console.log(\"You are missing your boots.\")\n",
    "        }\n",
    "    } else {\n",
    "        console.log(\"Your transportation is not available.\")\n",
    "    }\n",
    "\n",
    "} else {\n",
    "    console.log(\"The weather is not good.\")\n",
    "}"
   ]
  },
  {
   "cell_type": "code",
   "execution_count": null,
   "metadata": {},
   "outputs": [],
   "source": [
    "# Python Homework Hack 1\n",
    "\n",
    "#If the weather is sunny\n",
    "#    If there is enough sunscreen\n",
    "#        If there are enough snacks\n",
    "#            You can go to the beach\n",
    "#        Else \n",
    "#            Get more snacks\n",
    "#    Else \n",
    "#        Get more sunscreen\n",
    "#Else \n",
    "#    The weather is not good enough"
   ]
  },
  {
   "cell_type": "code",
   "execution_count": 5,
   "metadata": {},
   "outputs": [
    {
     "name": "stdout",
     "output_type": "stream",
     "text": [
      "You are not available to take care of a pet\n"
     ]
    }
   ],
   "source": [
    "# Python Homework Hack 2\n",
    "\n",
    "age = 19\n",
    "space = 60\n",
    "availibility = False\n",
    "\n",
    "if age >= 18:\n",
    "    if space >= 50:\n",
    "        if availibility == True:\n",
    "            print(\"You're all set\")\n",
    "        else:\n",
    "            print(\"You are not available to take care of a pet\")\n",
    "    else:\n",
    "        print(\"You don't have enough space\")\n",
    "else:\n",
    "    print(\"You are not old enough\")\n",
    "\n"
   ]
  },
  {
   "cell_type": "code",
   "execution_count": 7,
   "metadata": {},
   "outputs": [
    {
     "name": "stdout",
     "output_type": "stream",
     "text": [
      "You're all set\n"
     ]
    }
   ],
   "source": [
    "# Python Homework Hack 3\n",
    "\n",
    "weather = \"clear\"\n",
    "running_shoes = True\n",
    "practiced_days = 14\n",
    "\n",
    "if weather == \"clear\":\n",
    "    if running_shoes:\n",
    "        if practiced_days >= 10:\n",
    "            print(\"You're all set\")\n",
    "        else:\n",
    "            print(\"You need to practice more\")\n",
    "    else:\n",
    "        print(\"You don't have running shoes\")\n",
    "else:\n",
    "    print(\"The weather is not good\")"
   ]
  },
  {
   "cell_type": "code",
   "execution_count": null,
   "metadata": {},
   "outputs": [],
   "source": [
    "# Python Quiz\n",
    "\n",
    "# 1. C\n",
    "# 2. B\n",
    "# 3. C"
   ]
  }
 ],
 "metadata": {
  "kernelspec": {
   "display_name": "venv",
   "language": "python",
   "name": "python3"
  },
  "language_info": {
   "codemirror_mode": {
    "name": "ipython",
    "version": 3
   },
   "file_extension": ".py",
   "mimetype": "text/x-python",
   "name": "python",
   "nbconvert_exporter": "python",
   "pygments_lexer": "ipython3",
   "version": "3.12.3"
  }
 },
 "nbformat": 4,
 "nbformat_minor": 2
}
