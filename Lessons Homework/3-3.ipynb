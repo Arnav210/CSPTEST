{
 "cells": [
  {
   "cell_type": "code",
   "execution_count": 3,
   "metadata": {},
   "outputs": [
    {
     "name": "stdout",
     "output_type": "stream",
     "text": [
      "21\n"
     ]
    }
   ],
   "source": [
    "# Python Popcorn Hack 1\n",
    "\n",
    "num = int(input(\"Please enter a number: \"))\n",
    "\n",
    "total_sum = 0\n",
    "\n",
    "for x in range(num):\n",
    "    total_sum += x\n",
    "\n",
    "print(total_sum)"
   ]
  },
  {
   "cell_type": "code",
   "execution_count": null,
   "metadata": {
    "vscode": {
     "languageId": "javascript"
    }
   },
   "outputs": [],
   "source": [
    "%%javascript \n",
    "\n",
    "// Javascript Popcorn Hack 1\n",
    "\n",
    "let v = 2\n",
    "let w = 30\n",
    "let x = 0\n",
    "let y = 10\n",
    "let z = 3\n",
    "let result = 0\n",
    "\n",
    "function math(a, b, c, d, e) {\n",
    "    result = (d % e) / (d % e) * b - c + a\n",
    "    console.log(result)\n",
    "}\n",
    "\n",
    "math(v, w, x, y, z)"
   ]
  },
  {
   "cell_type": "code",
   "execution_count": 8,
   "metadata": {},
   "outputs": [
    {
     "name": "stdout",
     "output_type": "stream",
     "text": [
      "[5.0, 16.0, 8.0, 4.0, 2.0, 1.0]\n"
     ]
    }
   ],
   "source": [
    "# Python Homework Hack 1\n",
    "\n",
    "num = float(input(\"Enter num: \"))\n",
    "seq = []\n",
    "\n",
    "seq.append(num)\n",
    "\n",
    "while num != 1:\n",
    "    if num % 2 == 0:\n",
    "        num /= 2\n",
    "        seq.append(num)\n",
    "    else:\n",
    "        num *= 3\n",
    "        num += 1\n",
    "        seq.append(num)\n",
    "\n",
    "print(seq)\n",
    "\n"
   ]
  },
  {
   "cell_type": "code",
   "execution_count": null,
   "metadata": {
    "vscode": {
     "languageId": "javascript"
    }
   },
   "outputs": [],
   "source": [
    "%%javascript \n",
    "\n",
    "// Javascript Homework Hack 1\n",
    "\n",
    "function primeFactors(n) {\n",
    "    const factors = [];\n",
    "\n",
    "    while (n % 2 === 0) {\n",
    "        factors.push(2);\n",
    "        n /= 2;\n",
    "    }\n",
    "\n",
    "    for (let i = 3; i * i <= n; i += 2) {\n",
    "        while (n % i === 0) {\n",
    "            factors.push(i);\n",
    "            n /= i;\n",
    "        }\n",
    "    }\n",
    "\n",
    "    if (n > 2) {\n",
    "        factors.push(n);\n",
    "    }\n",
    "\n",
    "    return factors;\n",
    "}\n",
    "\n",
    "const number = 56;\n",
    "console.log(`Prime factors of ${number}:`, primeFactors(number));\n"
   ]
  }
 ],
 "metadata": {
  "kernelspec": {
   "display_name": "venv",
   "language": "python",
   "name": "python3"
  },
  "language_info": {
   "codemirror_mode": {
    "name": "ipython",
    "version": 3
   },
   "file_extension": ".py",
   "mimetype": "text/x-python",
   "name": "python",
   "nbconvert_exporter": "python",
   "pygments_lexer": "ipython3",
   "version": "3.12.3"
  }
 },
 "nbformat": 4,
 "nbformat_minor": 2
}
