{
 "cells": [
  {
   "cell_type": "code",
   "execution_count": 2,
   "metadata": {},
   "outputs": [
    {
     "name": "stdout",
     "output_type": "stream",
     "text": [
      "0\n",
      "224\n",
      "We live, we love, we lie Is this a place that I call home? To find what I've become Walk along the path unknown We live, we love, we lie Deep in the dark, I don't need the light There's a ghost inside me It all belongs to the other side We live, we love, we lie (We live, we love, we lie) Hello, hello Nice to meet you Voice inside my head Hello, hello I believe you How can I forget? Is this a place that I call home? To find what I've become Walk along the path unknown We live, we love, we lie Deep in the dark, I don't need the light There's a ghost inside me It all belongs to the other side We live, we love, we lie(We live, we love, we lie) We live, we love, we lie\n"
     ]
    }
   ],
   "source": [
    "# Python Popcorn Hack 3.4.2\n",
    "\n",
    "the_spectre = \"Hello, hello Can you hear me As I scream your name? Hello, hello Do you need me Before I fade away? Is this a place that I call home? To find what I've become Walk along the path unknown We live, we love, we lie Deep in the dark, I don't need the light There's a ghost inside me It all belongs to the other side We live, we love, we lie (We live, we love, we lie) Hello, hello Nice to meet you Voice inside my head Hello, hello I believe you How can I forget? Is this a place that I call home? To find what I've become Walk along the path unknown We live, we love, we lie Deep in the dark, I don't need the light There's a ghost inside me It all belongs to the other side We live, we love, we lie(We live, we love, we lie) We live, we love, we lie\" \n",
    "\n",
    "print(the_spectre.count(\"The Spectre\"))\n",
    "print(the_spectre.find(\"dark\"))\n",
    "print(the_spectre.replace(\"Hello, hello Can you hear me As I scream your name? Hello, hello Do you need me Before I fade away?\", \"We live, we love, we lie\"))\n",
    "\n",
    "verse1 = \"Hello, hello Can you hear me As I scream your name? Hello, hello Do you need me Before I fade away?\"\n",
    "verse2 = \"Deep in the dark, I don't need the light There's a ghost inside me It all belongs to the other side We live, we love, we lie (We live, we love, we lie)\"\n",
    "\n",
    "print(verse1 + \" \" + verse2)"
   ]
  },
  {
   "cell_type": "code",
   "execution_count": null,
   "metadata": {
    "vscode": {
     "languageId": "javascript"
    }
   },
   "outputs": [],
   "source": [
    "%%javascript\n",
    "\n",
    "// Javscript Popcorn Hack 3.4.3\n",
    "\n",
    "let animal = \"Wolf\"\n",
    "let flower = \"Poppy\"\n",
    "\n",
    "hybrid = animal.concat(flower)\n",
    "\n",
    "console.log(`There was a strange animal walking through the forest.\n",
    "The hybrid was licking at its fur and smelling the grass.\"\n",
    "The creature was surprised when a bird landed on it.\n",
    "However, because of its gentle nature from the poppy it was made of,\n",
    "It calmly strolled along.`)\n",
    "\n",
    "\n"
   ]
  },
  {
   "cell_type": "code",
   "execution_count": 8,
   "metadata": {},
   "outputs": [
    {
     "name": "stdout",
     "output_type": "stream",
     "text": [
      "5\n",
      "2\n",
      "5\n",
      "7\n",
      "The longest word is jeffrey with 7 characters.\n"
     ]
    }
   ],
   "source": [
    "# Python and Javascript Homework Hack 3.4.4 (mixed languages)\n",
    "\n",
    "import random\n",
    "\n",
    "string = input(\"Enter string: \")\n",
    "\n",
    "console.log(string)\n",
    "console.log(string.length)\n",
    "\n",
    "string1 = string.split(\" \")\n",
    "console.log(string1)\n",
    "\n",
    "x = 0\n",
    "longest = \"\"\n",
    "for y in string1:\n",
    "    print(len(y))\n",
    "    if len(y) > x:\n",
    "        x = len(y)\n",
    "        longest = y\n",
    "\n",
    "print(f\"The longest word is {longest} with {len(longest)} characters.\")\n",
    "\n",
    "string1.reverse()\n",
    "\n",
    "if len(string) % 2 == 0:\n",
    "    if string[len(string) / 2] == \" \":\n",
    "        print(string[len(string) / 2 + 1])\n",
    "    else:\n",
    "        print(string[len(string) / 2])\n",
    "else:\n",
    "    if string[len(string) / 2 - 0.5] == \" \":\n",
    "        print(string[len(string) / 2 + 0.5])\n",
    "    else:\n",
    "        print(string[len(string) / 2 - 0.5])\n",
    "\n",
    "# Unique functionality\n",
    "num = random.randrange(0, 100)\n",
    "\n",
    "if (string1.length == num) {\n",
    "    console.log(\"You're very lucky!\")\n",
    "}"
   ]
  }
 ],
 "metadata": {
  "kernelspec": {
   "display_name": "venv",
   "language": "python",
   "name": "python3"
  },
  "language_info": {
   "codemirror_mode": {
    "name": "ipython",
    "version": 3
   },
   "file_extension": ".py",
   "mimetype": "text/x-python",
   "name": "python",
   "nbconvert_exporter": "python",
   "pygments_lexer": "ipython3",
   "version": "3.12.3"
  }
 },
 "nbformat": 4,
 "nbformat_minor": 2
}
